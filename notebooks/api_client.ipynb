{
 "cells": [
  {
   "cell_type": "code",
   "execution_count": null,
   "metadata": {},
   "outputs": [],
   "source": [
    "import sys\n",
    "sys.path.append('..')\n",
    "from src.api import OrderAPI\n",
    "\n",
    "api = OrderAPI()"
   ]
  },
  {
   "cell_type": "code",
   "execution_count": 3,
   "metadata": {},
   "outputs": [
    {
     "name": "stdout",
     "output_type": "stream",
     "text": [
      "{'orders': [{'Order_Date': '2018-01-02', 'Time': '10:56:33', 'Aging': 8.0, 'Customer_Id': 37077, 'Gender': 'Female', 'Device_Type': 'Web', 'Customer_Login_type': 'Member', 'Product_Category': 'Auto & Accessories', 'Product': 'Car Media Players', 'Sales': 140.0, 'Quantity': 1.0, 'Discount': 0.3, 'Profit': 46.0, 'Shipping_Cost': 4.6, 'Order_Priority': 'Medium', 'Payment_method': 'credit_card'}], 'error': None}\n"
     ]
    }
   ],
   "source": [
    "#Test valid customer id\n",
    "customer_id = 37077  # ID that we know exists\n",
    "result = api.get_order_by_id(customer_id)\n",
    "print(result)"
   ]
  },
  {
   "cell_type": "code",
   "execution_count": 4,
   "metadata": {},
   "outputs": [
    {
     "name": "stdout",
     "output_type": "stream",
     "text": [
      "Order Details:\n",
      "--------------------------------------------------\n",
      "Date: 2018-01-02 at 10:56:33\n",
      "Customer ID: 37077\n",
      "Customer Info: Female - Member (Web)\n",
      "Product: Car Media Players (Auto & Accessories)\n",
      "Quantity: 1.0\n",
      "Sales: $140.00\n",
      "Discount: 30.0%\n",
      "Profit: $46.00\n",
      "Shipping Cost: $4.60\n",
      "Priority: Medium\n",
      "Payment Method: credit_card\n",
      "--------------------------------------------------\n"
     ]
    }
   ],
   "source": [
    "#Display order details\n",
    "def display_order_details(order):\n",
    "    \"\"\"Display order details in a readable format\"\"\"\n",
    "    print(\"Order Details:\")\n",
    "    print(\"-\" * 50)\n",
    "    print(f\"Date: {order['Order_Date']} at {order['Time']}\")\n",
    "    print(f\"Customer ID: {order['Customer_Id']}\")\n",
    "    print(f\"Customer Info: {order['Gender']} - {order['Customer_Login_type']} ({order['Device_Type']})\")\n",
    "    print(f\"Product: {order['Product']} ({order['Product_Category']})\")\n",
    "    print(f\"Quantity: {order['Quantity']}\")\n",
    "    print(f\"Sales: ${order['Sales']:.2f}\")\n",
    "    print(f\"Discount: {order['Discount']*100}%\")\n",
    "    print(f\"Profit: ${order['Profit']:.2f}\")\n",
    "    print(f\"Shipping Cost: ${order['Shipping_Cost']:.2f}\")\n",
    "    print(f\"Priority: {order['Order_Priority']}\")\n",
    "    print(f\"Payment Method: {order['Payment_method']}\")\n",
    "    print(\"-\" * 50)\n",
    "\n",
    "display_order_details(result['orders'][0])"
   ]
  },
  {
   "cell_type": "code",
   "execution_count": 5,
   "metadata": {},
   "outputs": [
    {
     "name": "stdout",
     "output_type": "stream",
     "text": [
      "Error: No data found for Customer ID 999999\n"
     ]
    }
   ],
   "source": [
    "#Test invalid customer id\n",
    "invalid_id = 999999\n",
    "result = api.get_order_by_id(invalid_id)\n",
    "\n",
    "if result[\"error\"]:\n",
    "    print(f\"Error: {result['error']}\")"
   ]
  }
 ],
 "metadata": {
  "kernelspec": {
   "display_name": "ecommerce-chatbot",
   "language": "python",
   "name": "python3"
  },
  "language_info": {
   "codemirror_mode": {
    "name": "ipython",
    "version": 3
   },
   "file_extension": ".py",
   "mimetype": "text/x-python",
   "name": "python",
   "nbconvert_exporter": "python",
   "pygments_lexer": "ipython3",
   "version": "3.10.17"
  }
 },
 "nbformat": 4,
 "nbformat_minor": 4
}
