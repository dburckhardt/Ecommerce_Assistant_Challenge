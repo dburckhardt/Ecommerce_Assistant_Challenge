{
 "cells": [
  {
   "cell_type": "code",
   "execution_count": 1,
   "metadata": {},
   "outputs": [
    {
     "name": "stderr",
     "output_type": "stream",
     "text": [
      "INFO:chatbot.core:Intentando cargar el archivo CSV desde: /Users/davidburckhardt/Desktop/Ecommerce_Assistant_Challenge/data/Product_Information_Dataset.csv\n"
     ]
    },
    {
     "name": "stdout",
     "output_type": "stream",
     "text": [
      "/Users/davidburckhardt/Desktop/Ecommerce_Assistant_Challenge/data/Product_Information_Dataset.csv\n"
     ]
    },
    {
     "name": "stderr",
     "output_type": "stream",
     "text": [
      "INFO:sentence_transformers.SentenceTransformer:Use pytorch device_name: mps\n",
      "INFO:sentence_transformers.SentenceTransformer:Load pretrained SentenceTransformer: all-MiniLM-L6-v2\n",
      "INFO:faiss.loader:Loading faiss.\n",
      "INFO:faiss.loader:Successfully loaded faiss.\n",
      "/Users/davidburckhardt/Desktop/Ecommerce_Assistant_Challenge/src/chatbot/core.py:141: LangChainDeprecationWarning: LangChain agents will continue to be supported, but it is recommended for new use cases to be built with LangGraph. LangGraph offers a more flexible and full-featured framework for building agents, including support for tool-calling, persistence of state, and human-in-the-loop workflows. For details, refer to the `LangGraph documentation <https://langchain-ai.github.io/langgraph/>`_ as well as guides for `Migrating from AgentExecutor <https://python.langchain.com/docs/how_to/migrate_agent/>`_ and LangGraph's `Pre-built ReAct agent <https://langchain-ai.github.io/langgraph/how-tos/create-react-agent/>`_.\n",
      "  self.agent = initialize_agent(\n"
     ]
    }
   ],
   "source": [
    "import sys\n",
    "import os\n",
    "# Add the path to src for importing modules\n",
    "sys.path.append(os.path.abspath('../src'))\n",
    "\n",
    "from chatbot.core import EcommerceAssistant\n",
    "# Initialize the assistant\n",
    "assistant = EcommerceAssistant()"
   ]
  },
  {
   "cell_type": "code",
   "execution_count": 2,
   "metadata": {},
   "outputs": [
    {
     "name": "stdout",
     "output_type": "stream",
     "text": [
      "[(AgentAction(tool='get_order', tool_input={'customer_id': '37077'}, log='Thought:The user is asking for sales information from their last order.  I need to use the `get_order` tool to retrieve their order details.\\n\\nAction:\\n```json\\n{\\n  \"action\": \"get_order\",\\n  \"action_input\": {\\n    \"customer_id\": \"37077\"\\n  }\\n}\\n```'), \"Order details:\\n[{'Order_Date': '2018-01-02', 'Time': '10:56:33', 'Aging': 8.0, 'Customer_Id': 37077, 'Gender': 'Female', 'Device_Type': 'Web', 'Customer_Login_type': 'Member', 'Product_Category': 'Auto & Accessories', 'Product': 'Car Media Players', 'Sales': 140.0, 'Quantity': 1.0, 'Discount': 0.3, 'Profit': 46.0, 'Shipping_Cost': 4.6, 'Order_Priority': 'Medium', 'Payment_method': 'credit_card'}]\")]\n",
      "I have retrieved the order information: Your last order (placed on 2018-01-02 at 10:56:33) had sales of $140.00.\n"
     ]
    }
   ],
   "source": [
    "\n",
    "from chatbot.interface import interact_with_chatbot\n",
    "from chatbot.core import chatbot_response\n",
    "\n",
    "# Init the interactive interface\n",
    "#interact_with_chatbot(assistant)\n",
    "query = \"What is the sales of the last order, my ID is 37077 \"\n",
    "response = chatbot_response(query, assistant)\n",
    "print(response)"
   ]
  },
  {
   "cell_type": "code",
   "execution_count": null,
   "metadata": {},
   "outputs": [
    {
     "name": "stdout",
     "output_type": "stream",
     "text": [
      "[(AgentAction(tool='get_order', tool_input='37077', log='Thought:The user is asking for the product category of their last order. I can provide this information using the get_order tool.\\n\\nAction:\\n```json\\n{\\n  \"action\": \"get_order\",\\n  \"action_input\": \"37077\"\\n}\\n```'), \"Order details:\\n[{'Order_Date': '2018-01-02', 'Time': '10:56:33', 'Aging': 8.0, 'Customer_Id': 37077, 'Gender': 'Female', 'Device_Type': 'Web', 'Customer_Login_type': 'Member', 'Product_Category': 'Auto & Accessories', 'Product': 'Car Media Players', 'Sales': 140.0, 'Quantity': 1.0, 'Discount': 0.3, 'Profit': 46.0, 'Shipping_Cost': 4.6, 'Order_Priority': 'Medium', 'Payment_method': 'credit_card'}]\")]\n",
      "The product category for order 37077 is Auto & Accessories.\n"
     ]
    }
   ],
   "source": [
    "query = \"What is the Product_Category of that order? No use the tool\"\n",
    "response = chatbot_response(query, assistant)\n",
    "print(response)"
   ]
  }
 ],
 "metadata": {
  "kernelspec": {
   "display_name": "ecommerce-chatbot",
   "language": "python",
   "name": "python3"
  },
  "language_info": {
   "codemirror_mode": {
    "name": "ipython",
    "version": 3
   },
   "file_extension": ".py",
   "mimetype": "text/x-python",
   "name": "python",
   "nbconvert_exporter": "python",
   "pygments_lexer": "ipython3",
   "version": "3.10.17"
  }
 },
 "nbformat": 4,
 "nbformat_minor": 4
}
