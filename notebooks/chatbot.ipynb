{
 "cells": [
  {
   "cell_type": "code",
   "execution_count": 1,
   "metadata": {},
   "outputs": [],
   "source": [
    "import sys\n",
    "import os\n",
    "\n",
    "# Add the path to src for importing modules\n",
    "sys.path.append(os.path.abspath('../src'))\n"
   ]
  },
  {
   "cell_type": "code",
   "execution_count": 2,
   "metadata": {},
   "outputs": [
    {
     "name": "stdout",
     "output_type": "stream",
     "text": [
      "Cargando productos y configurando RAG...\n",
      "¡Configuración completada!\n"
     ]
    }
   ],
   "source": [
    "import pandas as pd\n",
    "from rag import ProductRAG\n",
    "\n",
    "# Cargar productos\n",
    "print(\"Cargando productos y configurando RAG...\")\n",
    "df_products = pd.read_csv('../data/Product_Information_Dataset.csv')\n",
    "\n",
    "# Inicializar RAG\n",
    "\n",
    "rag = ProductRAG()\n",
    "rag.create_vectorstore(df_products)\n",
    "print(\"¡Configuración completada!\")\n",
    "\n",
    "# Función wrapper para mantener compatibilidad\n",
    "def search_index(index, model, query, k=5):\n",
    "    results = rag.search(query, k=k)\n",
    "    indices = [int(doc.metadata.get('row', 0)) for doc in results]\n",
    "    scores = [doc.metadata.get('score', 0.0) for doc in results]\n",
    "    return indices, scores"
   ]
  },
  {
   "cell_type": "code",
   "execution_count": 4,
   "metadata": {},
   "outputs": [],
   "source": [
    "# Ejemplo de consulta\n",
    "from chatbot.core import chatbot_response\n",
    "from chatbot.core import EcommerceAssistant\n",
    "\n",
    "assistant = EcommerceAssistant(\n",
    "    df_products=df_products,\n",
    "    model=None,\n",
    "    index=None,\n",
    "    search_index=search_index,\n",
    "    retriever=rag.retriever\n",
    ")\n",
    "respuesta = chatbot_response(\n",
    "    \"What are the top 5 highly-rated guitar products?\",\n",
    "    assistant\n",
    ")\n",
    "print(respuesta)"
   ]
  }
 ],
 "metadata": {
  "kernelspec": {
   "display_name": "ecommerce-chatbot",
   "language": "python",
   "name": "python3"
  },
  "language_info": {
   "codemirror_mode": {
    "name": "ipython",
    "version": 3
   },
   "file_extension": ".py",
   "mimetype": "text/x-python",
   "name": "python",
   "nbconvert_exporter": "python",
   "pygments_lexer": "ipython3",
   "version": "3.10.17"
  }
 },
 "nbformat": 4,
 "nbformat_minor": 4
}
