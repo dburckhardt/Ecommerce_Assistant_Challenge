{
 "cells": [
  {
   "cell_type": "code",
   "execution_count": 1,
   "metadata": {},
   "outputs": [],
   "source": [
    "import sys\n",
    "import os\n",
    "\n",
    "# Add the path to src for importing modules\n",
    "sys.path.append(os.path.abspath('../src'))\n"
   ]
  },
  {
   "cell_type": "code",
   "execution_count": 2,
   "metadata": {},
   "outputs": [
    {
     "name": "stdout",
     "output_type": "stream",
     "text": [
      "Cargando productos y configurando RAG...\n",
      "¡Configuración completada!\n"
     ]
    }
   ],
   "source": [
    "import pandas as pd\n",
    "from rag import ProductRAG\n",
    "\n",
    "# Cargar productos\n",
    "print(\"Cargando productos y configurando RAG...\")\n",
    "df_products = pd.read_csv('../data/Product_Information_Dataset.csv')\n",
    "\n",
    "# Inicializar RAG\n",
    "\n",
    "rag = ProductRAG()\n",
    "rag.create_vectorstore(df_products)\n",
    "print(\"¡Configuración completada!\")\n",
    "\n",
    "# Función wrapper para mantener compatibilidad\n",
    "def search_index(query, k=5):\n",
    "    results = rag.search(query, k=k)\n",
    "    # Usar el índice del documento en lugar de los metadatos\n",
    "    indices = [i for i in range(len(results))]\n",
    "    scores = [doc.metadata.get('score', 0.0) for doc in results]\n",
    "    return indices, scores"
   ]
  },
  {
   "cell_type": "code",
   "execution_count": 5,
   "metadata": {},
   "outputs": [
    {
     "name": "stdout",
     "output_type": "stream",
     "text": [
      "Getting order for customer ID: 37077\n",
      "Your most recent order (customer ID 37077) was placed on 2018-01-02 at 10:56:33. You ordered 1 Car Media Player from the Auto & Accessories category for $140.00. You received a 30% discount, bringing the profit to $46.00. Shipping cost was $4.60. The order priority was medium, and you paid with a credit card.\n"
     ]
    }
   ],
   "source": [
    "# Ejemplo de consulta\n",
    "from chatbot.core import chatbot_response\n",
    "from chatbot.core import EcommerceAssistant\n",
    "\n",
    "assistant = EcommerceAssistant(\n",
    "    df_products=df_products,\n",
    "    search_index=search_index,\n",
    ")\n",
    "respuesta = chatbot_response(\n",
    "    \"What are the details of my most recent order? 37077\",\n",
    "    assistant\n",
    ")\n",
    "print(respuesta)"
   ]
  }
 ],
 "metadata": {
  "kernelspec": {
   "display_name": "ecommerce-chatbot",
   "language": "python",
   "name": "python3"
  },
  "language_info": {
   "codemirror_mode": {
    "name": "ipython",
    "version": 3
   },
   "file_extension": ".py",
   "mimetype": "text/x-python",
   "name": "python",
   "nbconvert_exporter": "python",
   "pygments_lexer": "ipython3",
   "version": "3.10.17"
  }
 },
 "nbformat": 4,
 "nbformat_minor": 4
}
