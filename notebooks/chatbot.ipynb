{
 "cells": [
  {
   "cell_type": "code",
   "execution_count": 1,
   "metadata": {},
   "outputs": [
    {
     "name": "stderr",
     "output_type": "stream",
     "text": [
      "INFO:chatbot.core:Intentando cargar el archivo CSV desde: /Users/davidburckhardt/Desktop/Ecommerce_Assistant_Challenge/data/Product_Information_Dataset.csv\n"
     ]
    },
    {
     "name": "stdout",
     "output_type": "stream",
     "text": [
      "/Users/davidburckhardt/Desktop/Ecommerce_Assistant_Challenge/data/Product_Information_Dataset.csv\n"
     ]
    },
    {
     "name": "stderr",
     "output_type": "stream",
     "text": [
      "INFO:sentence_transformers.SentenceTransformer:Use pytorch device_name: mps\n",
      "INFO:sentence_transformers.SentenceTransformer:Load pretrained SentenceTransformer: all-MiniLM-L6-v2\n",
      "INFO:faiss.loader:Loading faiss.\n",
      "INFO:faiss.loader:Successfully loaded faiss.\n",
      "/Users/davidburckhardt/Desktop/Ecommerce_Assistant_Challenge/src/chatbot/core.py:171: LangChainDeprecationWarning: LangChain agents will continue to be supported, but it is recommended for new use cases to be built with LangGraph. LangGraph offers a more flexible and full-featured framework for building agents, including support for tool-calling, persistence of state, and human-in-the-loop workflows. For details, refer to the `LangGraph documentation <https://langchain-ai.github.io/langgraph/>`_ as well as guides for `Migrating from AgentExecutor <https://python.langchain.com/docs/how_to/migrate_agent/>`_ and LangGraph's `Pre-built ReAct agent <https://langchain-ai.github.io/langgraph/how-tos/create-react-agent/>`_.\n",
      "  self.agent = initialize_agent(\n"
     ]
    }
   ],
   "source": [
    "import sys\n",
    "import os\n",
    "# Add the path to src for importing modules\n",
    "sys.path.append(os.path.abspath('../src'))\n",
    "\n",
    "from chatbot.core import EcommerceAssistant\n",
    "# Initialize the assistant\n",
    "assistant = EcommerceAssistant()"
   ]
  },
  {
   "cell_type": "code",
   "execution_count": 2,
   "metadata": {},
   "outputs": [
    {
     "name": "stderr",
     "output_type": "stream",
     "text": [
      "/Users/davidburckhardt/Desktop/Ecommerce_Assistant_Challenge/src/rag.py:48: LangChainDeprecationWarning: The method `BaseRetriever.get_relevant_documents` was deprecated in langchain-core 0.1.46 and will be removed in 1.0. Use :meth:`~invoke` instead.\n",
      "  return self.retriever.get_relevant_documents(query)\n"
     ]
    },
    {
     "name": "stdout",
     "output_type": "stream",
     "text": [
      "Here are some highly-rated guitar products:\n",
      "\n",
      "1. Ernie Ball Mondo Slinky Nickelwound Electric Guitar Strings 10.5-52 Gauge - Rating: 4.8\n",
      "2. Amazon Basics Adjustable Guitar Folding A-Frame Stand for Acoustic and Electric Guitars with Non-Slip Rubber and Soft Foam Arms, Fully Assembled - Rating: 4.8\n",
      "3. D'Addario Guitar Strings - Phosphor Bronze Acoustic Guitar Strings - EJ41 - Rich, Full Tonal Spectrum - For 12 String Guitars - 09-45 Extra Light 12-String - Rating: 4.7\n",
      "4. BONAOK Wireless Bluetooth Karaoke Microphone, 3-in-1 Portable Handheld Mic Speaker Machine for All Smartphones, Gifts to Girls Boys Kids Adults All Age Q37(Black Gold) - Rating: 4.4\n",
      "5. Boya BYM1 by Shotgun Video Microphone by-M1 Ultimate 3.5mm Lapel Mic Clip-On Video Recording Omnidirectional Condenser for iPhone Android Smartphone Mac Tablet DSLR Camcorder, Black - Rating: 4.0\n"
     ]
    }
   ],
   "source": [
    "\n",
    "from chatbot.interface import interact_with_chatbot\n",
    "from chatbot.core import chatbot_response\n",
    "\n",
    "# Init the interactive interface\n",
    "#interact_with_chatbot(assistant)\n",
    "query = \"What are the top 5 highly rated guitar products?\"\n",
    "response = chatbot_response(query, assistant)\n",
    "print(response)"
   ]
  }
 ],
 "metadata": {
  "kernelspec": {
   "display_name": "ecommerce-chatbot",
   "language": "python",
   "name": "python3"
  },
  "language_info": {
   "codemirror_mode": {
    "name": "ipython",
    "version": 3
   },
   "file_extension": ".py",
   "mimetype": "text/x-python",
   "name": "python",
   "nbconvert_exporter": "python",
   "pygments_lexer": "ipython3",
   "version": "3.10.17"
  }
 },
 "nbformat": 4,
 "nbformat_minor": 4
}
