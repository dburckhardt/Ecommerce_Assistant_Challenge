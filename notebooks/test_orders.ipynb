{
 "cells": [
  {
   "cell_type": "code",
   "execution_count": 1,
   "metadata": {},
   "outputs": [
    {
     "name": "stderr",
     "output_type": "stream",
     "text": [
      "INFO:chatbot.core:Intentando cargar el archivo CSV desde: /Users/davidburckhardt/Desktop/Ecommerce_Assistant_Challenge/data/Product_Information_Dataset.csv\n"
     ]
    },
    {
     "name": "stdout",
     "output_type": "stream",
     "text": [
      "/Users/davidburckhardt/Desktop/Ecommerce_Assistant_Challenge/data/Product_Information_Dataset.csv\n"
     ]
    },
    {
     "name": "stderr",
     "output_type": "stream",
     "text": [
      "INFO:sentence_transformers.SentenceTransformer:Use pytorch device_name: mps\n",
      "INFO:sentence_transformers.SentenceTransformer:Load pretrained SentenceTransformer: all-MiniLM-L6-v2\n",
      "INFO:faiss.loader:Loading faiss.\n",
      "INFO:faiss.loader:Successfully loaded faiss.\n",
      "/Users/davidburckhardt/Desktop/Ecommerce_Assistant_Challenge/src/chatbot/core.py:170: LangChainDeprecationWarning: LangChain agents will continue to be supported, but it is recommended for new use cases to be built with LangGraph. LangGraph offers a more flexible and full-featured framework for building agents, including support for tool-calling, persistence of state, and human-in-the-loop workflows. For details, refer to the `LangGraph documentation <https://langchain-ai.github.io/langgraph/>`_ as well as guides for `Migrating from AgentExecutor <https://python.langchain.com/docs/how_to/migrate_agent/>`_ and LangGraph's `Pre-built ReAct agent <https://langchain-ai.github.io/langgraph/how-tos/create-react-agent/>`_.\n",
      "  self.agent = initialize_agent(\n"
     ]
    }
   ],
   "source": [
    "import sys\n",
    "import os\n",
    "# Add the path to src for importing modules\n",
    "sys.path.append(os.path.abspath('../src'))\n",
    "\n",
    "from chatbot.core import chatbot_response\n",
    "from chatbot.core import EcommerceAssistant\n",
    "# Initialize the assistant\n",
    "assistant = EcommerceAssistant()"
   ]
  },
  {
   "cell_type": "code",
   "execution_count": 2,
   "metadata": {},
   "outputs": [
    {
     "name": "stdout",
     "output_type": "stream",
     "text": [
      "User:  What are the details of my last order?\n",
      "Assistant:  To access your order details, I'll need your customer ID. Could you please provide it? \n",
      "\n",
      "User:  37077\n",
      "Assistant:  Your order details are as follows:\n",
      "\n",
      "Order Date: 2018-01-02\n",
      "Time: 10:56:33\n",
      "Product Category: Auto & Accessories\n",
      "Product: Car Media Players\n",
      "Quantity: 1\n",
      "Sales: $140.00\n",
      "Discount: $0.30\n",
      "Profit: $46.00\n",
      "Shipping Cost: $4.60\n",
      "Order Priority: Medium\n",
      "Payment Method: Credit Card \n",
      "\n"
     ]
    }
   ],
   "source": [
    "query = \"What are the details of my last order?\"\n",
    "response = chatbot_response(query, assistant)\n",
    "print(\"User: \", query)\n",
    "print(\"Assistant: \", response, \"\\n\")\n",
    "\n",
    "query = \"37077\"\n",
    "response = chatbot_response(query, assistant)\n",
    "print(\"User: \", query)\n",
    "print(\"Assistant: \", response, \"\\n\")"
   ]
  },
  {
   "cell_type": "code",
   "execution_count": null,
   "metadata": {},
   "outputs": [
    {
     "name": "stdout",
     "output_type": "stream",
     "text": [
      "Priority: low\n",
      "User:  Fetch the most recent low-priority order.\n",
      "Assistant:  Here is the most recent low-priority order:\n",
      "\n",
      "Order_Date: 2018-12-29\n",
      "Time: 14:02:04\n",
      "Customer_Id: 29019\n",
      "Product: Casula Shoes\n",
      "Sales: 122.0\n",
      "Quantity: 2.0\n",
      "Discount: 0.1\n",
      "Profit: 39.6\n",
      "Shipping_Cost: 4.0\n",
      "Order_Priority: Low\n",
      "Payment_method: credit_card \n",
      "\n"
     ]
    }
   ],
   "source": [
    "query = \"Fetch the most recent low-priority order.\"\n",
    "response = chatbot_response(query, assistant)\n",
    "print(\"User: \", query)\n",
    "print(\"Assistant: \", response, \"\\n\")"
   ]
  },
  {
   "cell_type": "code",
   "execution_count": 4,
   "metadata": {},
   "outputs": [
    {
     "name": "stdout",
     "output_type": "stream",
     "text": [
      "User:  What are the details of my most recent order?\n",
      "Assistant:  To help me retrieve the details of your most recent order, could you please provide your customer ID again? \n",
      "\n",
      "User:  My Customer ID is 37077.\n",
      "Assistant:  Your most recent order (Order ID implied from previous query):\n",
      "\n",
      "Order Date: 2018-01-02\n",
      "Time: 10:56:33\n",
      "Product Category: Auto & Accessories\n",
      "Product: Car Media Players\n",
      "Quantity: 1\n",
      "Sales: $140.00\n",
      "Discount: $0.30\n",
      "Profit: $46.00\n",
      "Shipping Cost: $4.60\n",
      "Order Priority: Medium\n",
      "Payment Method: Credit Card \n",
      "\n"
     ]
    }
   ],
   "source": [
    "query = \"What are the details of my most recent order?\"\n",
    "response = chatbot_response(query, assistant)\n",
    "print(\"User: \", query)\n",
    "print(\"Assistant: \", response, \"\\n\")\n",
    "\n",
    "query = \"My Customer ID is 37077.\"\n",
    "response = chatbot_response(query, assistant)\n",
    "print(\"User: \", query)\n",
    "print(\"Assistant: \", response, \"\\n\")"
   ]
  },
  {
   "cell_type": "code",
   "execution_count": 5,
   "metadata": {},
   "outputs": [
    {
     "name": "stdout",
     "output_type": "stream",
     "text": [
      "User:  What is the status of my car body covers?\n",
      "Assistant:  To check the status of your car body covers order, I'll need your customer ID. Could you please provide it? \n",
      "\n",
      "User:  My Customer ID is 41066.\n",
      "Assistant:  Your order (Order ID implied from the query) for car body covers (Customer ID 41066) is critical priority and was placed on 2018-11-08 at 08:38:49.  It includes 5 car body covers with a total sales value of $117.00. The profit is $31.20 and shipping cost is $3.10.  The order was placed via web by a female member using a credit card. \n",
      "\n"
     ]
    }
   ],
   "source": [
    "query = \"What is the status of my car body covers?\"\n",
    "response = chatbot_response(query, assistant)\n",
    "print(\"User: \", query)\n",
    "print(\"Assistant: \", response, \"\\n\")\n",
    "\n",
    "query = \"My Customer ID is 41066.\"\n",
    "response = chatbot_response(query, assistant)\n",
    "print(\"User: \", query)\n",
    "print(\"Assistant: \", response, \"\\n\")"
   ]
  },
  {
   "cell_type": "code",
   "execution_count": 2,
   "metadata": {},
   "outputs": [
    {
     "name": "stdout",
     "output_type": "stream",
     "text": [
      "User:  What is the status of my cell-phone order?\n",
      "Assistant:  I can help you with that! Could you please provide your customer ID so I can check the status of your cell phone order? \n",
      "\n",
      "User:  My Customer ID is 53639.\n",
      "Assistant:  The order with customer ID 53639 was placed on 2018-08-13. The order is for a Tyre, and the total sales amount was 250.0. The order priority is critical. \n",
      "\n"
     ]
    }
   ],
   "source": [
    "query = \"What is the status of my cell-phone order?\"\n",
    "response = chatbot_response(query, assistant)\n",
    "print(\"User: \", query)\n",
    "print(\"Assistant: \", response, \"\\n\")\n",
    "\n",
    "query = \"My Customer ID is 53639.\"\n",
    "response = chatbot_response(query, assistant)\n",
    "print(\"User: \", query)\n",
    "print(\"Assistant: \", response, \"\\n\")"
   ]
  },
  {
   "cell_type": "code",
   "execution_count": 6,
   "metadata": {},
   "outputs": [
    {
     "name": "stdout",
     "output_type": "stream",
     "text": [
      "User:  What is the status of my order?\n",
      "Assistant:  To look up the status of your order, I need your customer ID. Could you please provide it? \n",
      "\n",
      "User:  I don't have ID.\n",
      "Assistant:  I understand. Unfortunately, I need your customer ID to look up your order status. Without it, I am unable to retrieve any information about your order. \n",
      "\n"
     ]
    }
   ],
   "source": [
    "query = \"What is the status of my order?\"\n",
    "response = chatbot_response(query, assistant)\n",
    "print(\"User: \", query)\n",
    "print(\"Assistant: \", response, \"\\n\")\n",
    "\n",
    "query = \"I don't have ID.\"\n",
    "response = chatbot_response(query, assistant)\n",
    "print(\"User: \", query)\n",
    "print(\"Assistant: \", response, \"\\n\")"
   ]
  },
  {
   "cell_type": "code",
   "execution_count": 7,
   "metadata": {},
   "outputs": [
    {
     "name": "stdout",
     "output_type": "stream",
     "text": [
      "User:  What is the sales of my order? 50437\n",
      "Assistant:  The sales amount for your order (Customer ID 50437) is $117.0. \n",
      "\n"
     ]
    }
   ],
   "source": [
    "query = \"What is the sales of my order? My ID is50437\"\n",
    "response = chatbot_response(query, assistant)\n",
    "print(\"User: \", query)\n",
    "print(\"Assistant: \", response, \"\\n\")"
   ]
  },
  {
   "cell_type": "code",
   "execution_count": 8,
   "metadata": {},
   "outputs": [
    {
     "name": "stdout",
     "output_type": "stream",
     "text": [
      "User:  What is the gender of my order? My ID is 48328\n",
      "Assistant:  The gender associated with your order (Customer ID 48328) is male. \n",
      "\n"
     ]
    }
   ],
   "source": [
    "query = \"What is the gender of my order? My ID is 48328\"\n",
    "response = chatbot_response(query, assistant)\n",
    "print(\"User: \", query)\n",
    "print(\"Assistant: \", response, \"\\n\")"
   ]
  },
  {
   "cell_type": "code",
   "execution_count": null,
   "metadata": {},
   "outputs": [
    {
     "name": "stdout",
     "output_type": "stream",
     "text": [
      "User:  I don't remeber the date of my order.\n",
      "Assistant:  I can help you find the date of your order. To do so, I need your customer ID. Could you please provide it? \n",
      "\n",
      "User:  My what?\n",
      "Assistant:  I understand you don't remember the date of your order. To find that information, I need your customer ID. Could you please provide it? \n",
      "\n",
      "User:  ahhh,?\n",
      "Assistant:  It seems you're having trouble remembering your order date. Just to remind you, your customer ID is 48328, and the order dates associated with it are 2018-06-07 and 2018-07-28. Is there anything else I can help you with regarding these orders? \n",
      "\n",
      "User:  The recent one\n",
      "Assistant:  The more recent order date associated with your customer ID (48328) is 2018-07-28. \n",
      "\n"
     ]
    }
   ],
   "source": [
    "query = \"I don't remeber the date of my order.\"\n",
    "response = chatbot_response(query, assistant)\n",
    "print(\"User: \", query)\n",
    "print(\"Assistant: \", response, \"\\n\")\n",
    "\n",
    "query = \"My what?\"\n",
    "response = chatbot_response(query, assistant)\n",
    "print(\"User: \", query)\n",
    "print(\"Assistant: \", response, \"\\n\")\n",
    "\n",
    "\n",
    "query = \"ahhh, 48328?\"\n",
    "response = chatbot_response(query, assistant)\n",
    "print(\"User: \", query)\n",
    "print(\"Assistant: \", response, \"\\n\")\n",
    "\n",
    "query = \"The recent one\"\n",
    "response = chatbot_response(query, assistant)\n",
    "print(\"User: \", query)\n",
    "print(\"Assistant: \", response, \"\\n\")\n"
   ]
  },
  {
   "cell_type": "code",
   "execution_count": 13,
   "metadata": {},
   "outputs": [
    {
     "name": "stdout",
     "output_type": "stream",
     "text": [
      "User:  I don't remeber the hour of my order. My ID is 28105\n",
      "Assistant:  It seems like you're having trouble remembering the hour of your order. Your customer ID is 28105, and the order times associated with it are 12:16:30 and 15:00:06. Is there anything else I can help you with regarding these orders? \n",
      "\n",
      "User:  The older one\n",
      "Assistant:  The older order time associated with your customer ID (28105) is 12:16:30. \n",
      "\n"
     ]
    }
   ],
   "source": [
    "query = \"I don't remeber the hour of my order. My ID is 28105\"\n",
    "response = chatbot_response(query, assistant)\n",
    "print(\"User: \", query)\n",
    "print(\"Assistant: \", response, \"\\n\")\n",
    "\n",
    "query = \"The older one\"\n",
    "response = chatbot_response(query, assistant)\n",
    "print(\"User: \", query)\n",
    "print(\"Assistant: \", response, \"\\n\")"
   ]
  }
 ],
 "metadata": {
  "kernelspec": {
   "display_name": "ecommerce-chatbot",
   "language": "python",
   "name": "python3"
  },
  "language_info": {
   "codemirror_mode": {
    "name": "ipython",
    "version": 3
   },
   "file_extension": ".py",
   "mimetype": "text/x-python",
   "name": "python",
   "nbconvert_exporter": "python",
   "pygments_lexer": "ipython3",
   "version": "3.10.17"
  }
 },
 "nbformat": 4,
 "nbformat_minor": 2
}
