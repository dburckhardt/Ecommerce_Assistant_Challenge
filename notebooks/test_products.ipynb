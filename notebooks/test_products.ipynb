{
 "cells": [
  {
   "cell_type": "code",
   "execution_count": 1,
   "metadata": {},
   "outputs": [
    {
     "name": "stderr",
     "output_type": "stream",
     "text": [
      "INFO:chatbot.core:Intentando cargar el archivo CSV desde: /Users/davidburckhardt/Desktop/Ecommerce_Assistant_Challenge/data/Product_Information_Dataset.csv\n"
     ]
    },
    {
     "name": "stdout",
     "output_type": "stream",
     "text": [
      "/Users/davidburckhardt/Desktop/Ecommerce_Assistant_Challenge/data/Product_Information_Dataset.csv\n"
     ]
    },
    {
     "name": "stderr",
     "output_type": "stream",
     "text": [
      "INFO:sentence_transformers.SentenceTransformer:Use pytorch device_name: mps\n",
      "INFO:sentence_transformers.SentenceTransformer:Load pretrained SentenceTransformer: all-MiniLM-L6-v2\n",
      "INFO:faiss.loader:Loading faiss.\n",
      "INFO:faiss.loader:Successfully loaded faiss.\n",
      "/Users/davidburckhardt/Desktop/Ecommerce_Assistant_Challenge/src/chatbot/core.py:170: LangChainDeprecationWarning: LangChain agents will continue to be supported, but it is recommended for new use cases to be built with LangGraph. LangGraph offers a more flexible and full-featured framework for building agents, including support for tool-calling, persistence of state, and human-in-the-loop workflows. For details, refer to the `LangGraph documentation <https://langchain-ai.github.io/langgraph/>`_ as well as guides for `Migrating from AgentExecutor <https://python.langchain.com/docs/how_to/migrate_agent/>`_ and LangGraph's `Pre-built ReAct agent <https://langchain-ai.github.io/langgraph/how-tos/create-react-agent/>`_.\n",
      "  self.agent = initialize_agent(\n"
     ]
    }
   ],
   "source": [
    "import sys\n",
    "import os\n",
    "# Add the path to src for importing modules\n",
    "sys.path.append(os.path.abspath('../src'))\n",
    "\n",
    "from chatbot.core import chatbot_response\n",
    "from chatbot.core import EcommerceAssistant\n",
    "# Initialize the assistant\n",
    "assistant = EcommerceAssistant()"
   ]
  },
  {
   "cell_type": "code",
   "execution_count": 24,
   "metadata": {},
   "outputs": [
    {
     "name": "stdout",
     "output_type": "stream",
     "text": [
      "Here are the top 5 highly-rated guitar products:\n",
      "\n",
      "1. **Ernie Ball Mondo Slinky Nickelwound Electric Guitar Strings** - Rating: 4.8\n",
      "2. **Amazon Basics Adjustable Guitar Folding A-Frame Stand** - Rating: 4.8\n",
      "3. **D'Addario Guitar Strings** - Rating: 4.7\n",
      "4. **BONAOK Wireless Bluetooth Karaoke Microphone** - Rating: 4.4\n",
      "5. **Boya BYM1 by Shotgun Video Microphone** - Rating: 4.0\n"
     ]
    }
   ],
   "source": [
    "query = \"What are the top 5 highly-rated guitar products?\"\n",
    "response = chatbot_response(query, assistant)\n",
    "print(response)"
   ]
  },
  {
   "cell_type": "code",
   "execution_count": 8,
   "metadata": {},
   "outputs": [
    {
     "name": "stdout",
     "output_type": "stream",
     "text": [
      "For thin guitar strings, I recommend the **D'Addario Guitar Strings - Phosphor Bronze Acoustic Guitar Strings - EJ41 - Rich, Full Tonal Spectrum - For 12 String Guitars - 09-45 Extra Light 12-String**. They are priced at $10.99 and have an average rating of 4.7 out of 5 stars. The '09-45 Extra Light' gauge makes them a great option for thin strings.\n"
     ]
    }
   ],
   "source": [
    "response = chatbot_response('What is a good product for thin guitar strings?', assistant)\n",
    "print(response)"
   ]
  },
  {
   "cell_type": "code",
   "execution_count": 9,
   "metadata": {},
   "outputs": [
    {
     "name": "stdout",
     "output_type": "stream",
     "text": [
      "The Boya BYM1 Microphone is primarily designed as a lapel microphone for video recording with smartphones, cameras, and camcorders. While it's an omnidirectional condenser microphone, it might not be the ideal choice for recording a cello, as instruments often benefit from specialized microphones designed to capture their specific sonic characteristics. For optimal sound quality when recording a cello, you might want to consider microphones specifically designed for musical instruments.\n"
     ]
    }
   ],
   "source": [
    "response = chatbot_response('Is the BOYA BYM1 Microphone good for a cello?', assistant)\n",
    "print(response)"
   ]
  },
  {
   "cell_type": "code",
   "execution_count": 14,
   "metadata": {},
   "outputs": [
    {
     "name": "stdout",
     "output_type": "stream",
     "text": [
      "The \"top\" microphone among the products found, based on average rating, is the **BONAOK Wireless Bluetooth Karaoke Microphone**. It has an average rating of 4.4 out of 5 stars and is priced at $29.99.\n"
     ]
    }
   ],
   "source": [
    "response = chatbot_response(\"What is the top of microphone?\", assistant)\n",
    "print(response)"
   ]
  },
  {
   "cell_type": "code",
   "execution_count": null,
   "metadata": {},
   "outputs": [
    {
     "name": "stdout",
     "output_type": "stream",
     "text": [
      "Based on the products I've found in our previous conversations, here are the top products that are not guitars, ranked by their average rating:\n",
      "\n",
      "1.  **BONAOK Wireless Bluetooth Karaoke Microphone** (4.4 out of 5 stars)\n",
      "2.  **Boya BYM1 by Shotgun Video Microphone** (4.0 out of 5 stars)\n",
      "\n",
      "I only have two products that fit the \"not guitars\" criteria from our previous searches. If you'd like me to search for other types of products, please let me know!\n"
     ]
    }
   ],
   "source": [
    "response = chatbot_response(\"What is the top 2 products that are not guitars?\", assistant)\n",
    "print(response)"
   ]
  },
  {
   "cell_type": "code",
   "execution_count": 9,
   "metadata": {},
   "outputs": [
    {
     "name": "stdout",
     "output_type": "stream",
     "text": [
      "I have already provided the top 3 cheap guitar products in a previous response. Here they are again:\n",
      "\n",
      "1.  Ernie Ball Mondo Slinky Nickelwound Electric Guitar Strings 10.5-52 Gauge - $6.99, Rating: 4.8\n",
      "2.  D'Addario Guitar Strings - Phosphor Bronze Acoustic Guitar Strings - EJ41 - Rich, Full Tonal Spectrum - For 12 String Guitars - 09-45 Extra Light 12-String - $10.99, Rating: 4.7\n",
      "3.  Amazon Basics Adjustable Guitar Folding A-Frame Stand for Acoustic and Electric Guitars with Non-Slip Rubber and Soft Foam Arms, Fully Assembled - $17.75, Rating: 4.8\n"
     ]
    }
   ],
   "source": [
    "response = chatbot_response(\"Give the top 3 cheap guitars products\", assistant)\n",
    "print(response)"
   ]
  },
  {
   "cell_type": "code",
   "execution_count": 11,
   "metadata": {},
   "outputs": [
    {
     "name": "stdout",
     "output_type": "stream",
     "text": [
      "I found a wireless microphone: BONAOK Wireless Bluetooth Karaoke Microphone, 3-in-1 Portable Handheld Mic Speaker Machine for All Smartphones, Gifts to Girls Boys Kids Adults All Age Q37(Black Gold) - $29.99, Rating: 4.4\n"
     ]
    }
   ],
   "source": [
    "response = chatbot_response(\"I need a microphone without wires\", assistant)\n",
    "print(response)"
   ]
  },
  {
   "cell_type": "code",
   "execution_count": 24,
   "metadata": {},
   "outputs": [
    {
     "name": "stdout",
     "output_type": "stream",
     "text": [
      "I can provide you with a guitar and a microphone. Here are some options:\n",
      "\n",
      "Guitar:\n",
      "*   Ernie Ball Mondo Slinky Nickelwound Electric Guitar Strings 10.5-52 Gauge - $6.99, Rating: 4.8\n",
      "\n",
      "Microphone:\n",
      "*   BONAOK Wireless Bluetooth Karaoke Microphone, 3-in-1 Portable Handheld Mic Speaker Machine for All Smartphones, Gifts to Girls Boys Kids Adults All Age Q37(Black Gold) - $29.99, Rating: 4.4\n",
      "\n",
      "Is there anything else I can help you with?\n"
     ]
    }
   ],
   "source": [
    "response = chatbot_response(\"Give me one guitar and one microphone\", assistant)\n",
    "print(response)"
   ]
  },
  {
   "cell_type": "code",
   "execution_count": 25,
   "metadata": {},
   "outputs": [
    {
     "name": "stdout",
     "output_type": "stream",
     "text": [
      "The Ernie Ball Mondo Slinky Nickelwound Electric Guitar Strings have a rating of 4.8.\n"
     ]
    }
   ],
   "source": [
    "response = chatbot_response(\"Is the Ernie Ball Mondo Slinky a guitar with good rating?\", assistant)\n",
    "print(response)"
   ]
  },
  {
   "cell_type": "code",
   "execution_count": 5,
   "metadata": {},
   "outputs": [
    {
     "name": "stdout",
     "output_type": "stream",
     "text": [
      "I found several microphones. The BONAOK Wireless Bluetooth Karaoke Microphone looks like a fun option for a birthday. There's also the Boya BYM1 lapel microphone. \n",
      "\n",
      "Would you like me to provide more details on any of these, or perhaps search for other types of microphones, like those specifically for karaoke or recording?\n"
     ]
    }
   ],
   "source": [
    "response = chatbot_response(\"I am looking for a microphone to my son's birthday\", assistant)\n",
    "print(response)"
   ]
  }
 ],
 "metadata": {
  "kernelspec": {
   "display_name": "ecommerce-chatbot",
   "language": "python",
   "name": "python3"
  },
  "language_info": {
   "codemirror_mode": {
    "name": "ipython",
    "version": 3
   },
   "file_extension": ".py",
   "mimetype": "text/x-python",
   "name": "python",
   "nbconvert_exporter": "python",
   "pygments_lexer": "ipython3",
   "version": "3.10.17"
  }
 },
 "nbformat": 4,
 "nbformat_minor": 2
}
